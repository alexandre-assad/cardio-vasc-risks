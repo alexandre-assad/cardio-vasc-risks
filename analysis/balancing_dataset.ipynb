{
 "cells": [
  {
   "cell_type": "markdown",
   "metadata": {},
   "source": [
    "An outline of the ground basis for balancing key fields based on real-world data:\n",
    "\n",
    "1. **Sex Ratio**:\n",
    "   - Typically, the sex ratio in many Western countries is close to 50-50. According to the World Bank, the global average is approximately 50.4% men and 49.6% women.\n",
    "   src: https://data.worldbank.org/indicator/SP.POP.TOTL\n",
    "   - **Recommended Ratio**: 50% men and 50% women.\n",
    "\n",
    "2. **Hypertension**:\n",
    "   - Hypertension prevalence varies by age and sex but is generally significant in adults. According to the American Heart Association, about 45% of adults in the U.S. have hypertension.\n",
    "   src: https://www.ncbi.nlm.nih.gov/pmc/articles/PMC7803011/#:~:text=3.2.-,Burden%20of%20hypertension,104%E2%80%93128\n",
    "   - **Recommended Ratio**: 45% with hypertension and 55% without.\n",
    "\n",
    "3. **Cholesterol Levels**:\n",
    "   - High cholesterol is a common issue, with the CDC reporting that about 38% of American adults have high cholesterol.\n",
    "   src: https://www.cdc.gov/cholesterol/data-research/facts-stats/index.html\n",
    "   - **Recommended Ratio**: 38% with high cholesterol and 62% with normal cholesterol levels.\n",
    "\n",
    "4. **Glucose Levels**:\n",
    "   - Diabetes and prediabetes are prevalent, with about 10.5% of the U.S. population having diabetes and 34.5% having prediabetes.\n",
    "    src: https://www.cdc.gov/diabetes/php/data-research/index.html#:~:text=of%20diagnosed%20diabetes-,Among%20the%20U.S.%20population%20overall%2C%20crude%20estimates%20for%202021%20were,304%2C000%20with%20type%201%20diabetes.\n",
    "   - **Recommended Ratio**: Roughly 10-15% with diabetes, 30-35% with prediabetes, and 50-60% with normal glucose levels.\n",
    "\n",
    "5. **Smoking**:\n",
    "   - Smoking rates have declined but remain a risk factor for cardiovascular disease. About 14% of adults in the U.S. smoke.\n",
    "    src: https://www.cdc.gov/tobacco/data_statistics/fact_sheets/adult_data/cig_smoking/index.htm\n",
    "   - **Recommended Ratio**: 14% smokers and 86% non-smokers.\n",
    "\n",
    "6. **Alcohol Consumption**:\n",
    "   - Alcohol consumption varies widely. Around 25% of adults engage in heavy drinking or binge drinking according to various health reports.\n",
    "    src: https://www.pewresearch.org/short-reads/2024/01/03/10-facts-about-americans-and-alcohol-as-dry-january-begins/#:~:text=In%202021%2C%20the%20most%20recent,contains%200.6%20ounces%20of%20alcohol.\n",
    "   - **Recommended Ratio**: 25% heavy drinkers and 75% moderate or non-drinkers.\n",
    "\n",
    "7. **Physical Activity**:\n",
    "   - Physical activity is critical for cardiovascular health. Approximately 54% of adults meet the CDC’s Physical Activity Guidelines.\n",
    "    src: https://www.cdc.gov/nchs/fastats/exercise.htm\n",
    "   - **Recommended Ratio**: 54% active and 46% inactive.\n",
    "\n",
    "8. **Cardiovascular Disease (CVD) Flag**:\n",
    "   - The prevalence of cardiovascular diseases varies by age and sex but is a leading cause of death. In the U.S., about 48% of adults have some form of CVD.\n",
    "    src: https://www.ajpmonline.org/article/S0749-3797(23)00465-8/fulltext#:~:text=During%202010%E2%80%932022%2C%2010%2C951%2C403%20CVD,rate%20(456.7%20per%20100%2C000\n",
    "   - **Recommended Ratio**: 48% with CVD and 52% without CVD.\n",
    "\n",
    "Given these ratios, our aim is to create a balanced dataset that reflects these real-world distributions. This will help ensure that the model is trained on a representative sample and can generalize well to new data.:\n",
    "\n",
    "| Field             | Ratio                 |\n",
    "|-------------------|-----------------------|\n",
    "| Sex               | 50% men, 50% women    |\n",
    "| Hypertension      | 45% yes, 55% no       |\n",
    "| Cholesterol       | 38% high, 62% normal  |\n",
    "| Glucose           | 10-15% diabetes, 30-35% prediabetes, 50-60% normal |\n",
    "| Smoking           | 14% smokers, 86% non-smokers |\n",
    "| Alcohol Consumption | 25% heavy drinkers, 75% moderate/non-drinkers |\n",
    "| Physical Activity | 54% active, 46% inactive |\n",
    "| Cardiovascular Disease (CVD) | 48% yes, 52% no |\n"
   ]
  },
  {
   "cell_type": "code",
   "execution_count": 1,
   "metadata": {},
   "outputs": [],
   "source": [
    "from scripts.generic_methods import load_dataset\n",
    "from icecream import ic\n",
    "DATASET = load_dataset(\"../data/filtered/analysis.csv\", \",\")"
   ]
  },
  {
   "cell_type": "code",
   "execution_count": 2,
   "metadata": {},
   "outputs": [
    {
     "data": {
      "text/plain": [
       "Index(['Unnamed: 0', 'cardio', 'is_overweight', 'bmi_is_valid', 'is_healthy',\n",
       "       'ap_lo', 'years', 'bmi', 'height_is_valid', 'alco', 'active', 'sex',\n",
       "       'id', 'bmi_status', 'broader_age_group', 'ap_lo_status', 'age', 'smoke',\n",
       "       'is_underweight', 'height', 'in_hypertension', 'ap_hi_status', 'gluc',\n",
       "       'is_valid', 'age_is_valid', 'weight_is_valid', 'weight', 'age_group',\n",
       "       'ap_hi', 'gender', 'cholesterol'],\n",
       "      dtype='object')"
      ]
     },
     "execution_count": 2,
     "metadata": {},
     "output_type": "execute_result"
    }
   ],
   "source": [
    "DATASET.columns\n"
   ]
  },
  {
   "cell_type": "code",
   "execution_count": 3,
   "metadata": {},
   "outputs": [
    {
     "data": {
      "text/plain": [
       "{'gender': {'FEMALE': 0.3438776721083592, 'MALE': 0.6561223278916408},\n",
       " 'in_hypertension': {False: 0.6644967705843462, True: 0.33550322941565375},\n",
       " 'cholesterol': {'NORMAL': 0.7723134821746427,\n",
       "  'WELL_ABOVE_NORMAL': 0.10566376782111919,\n",
       "  'ABOVE_NORMAL': 0.12202275000423808},\n",
       " 'gluc': {'NORMAL': 0.8600756073166184,\n",
       "  'ABOVE_NORMAL': 0.06608011663191442,\n",
       "  'WELL_ABOVE_NORMAL': 0.07384427605146722},\n",
       " 'smoke': {False: 0.9140687246774822, True: 0.08593127532251776},\n",
       " 'alco': {False: 0.9491430605706148, True: 0.05085693942938514},\n",
       " 'active': {True: 0.8022004102459781, False: 0.19779958975402193},\n",
       " 'cardio': {False: 0.561206326603265, True: 0.438793673396735}}"
      ]
     },
     "execution_count": 3,
     "metadata": {},
     "output_type": "execute_result"
    }
   ],
   "source": [
    "from pandas import DataFrame\n",
    "\n",
    "TARGET_FIELDS = [\"gender\", \"in_hypertension\", \"cholesterol\", \"gluc\", \"smoke\", \"alco\", \"active\", \"cardio\"]\n",
    "\n",
    "def get_ratios(dataset: DataFrame) -> dict[str,dict[str,float]]:\n",
    "    ratios = {}\n",
    "    for field in TARGET_FIELDS:\n",
    "        ratios[field] = {}\n",
    "        for value in dataset[field].unique():\n",
    "            ratios[field][value] = dataset[field].value_counts(normalize=True)[value]\n",
    "    return ratios\n",
    "\n",
    "get_ratios(DATASET)\n",
    "\n"
   ]
  },
  {
   "cell_type": "code",
   "execution_count": 7,
   "metadata": {},
   "outputs": [],
   "source": [
    "ACCURACY_TOLERENCE = 0.05\n",
    "RECOMENDED_RATIOS = {\n",
    "    'gender': {'FEMALE': 0.5, 'MALE': 0.5},\n",
    "    'in_hypertension': {False: 0.55, True: 0.45},\n",
    "    'cholesterol': {'NORMAL': 0.62, 'ABOVE_NORMAL': 0.12, 'WELL_ABOVE_NORMAL': 0.38},\n",
    "    'gluc': {'NORMAL': 0.55, 'ABOVE_NORMAL': 0.1, 'WELL_ABOVE_NORMAL': 0.35},\n",
    "    'smoke': {False: 0.86, True: 0.14},\n",
    "    'alco': {False: 0.75, True: 0.25},\n",
    "    'active': {False: 0.46, True: 0.54},\n",
    "    'cardio': {False: 0.52, True: 0.48}\n",
    "}"
   ]
  },
  {
   "cell_type": "code",
   "execution_count": 11,
   "metadata": {},
   "outputs": [
    {
     "data": {
      "text/plain": [
       "{'gender': {'FEMALE': 0.34619302322504975, 'MALE': 0.6538069767749503},\n",
       " 'in_hypertension': {True: 0.33757898589388, False: 0.66242101410612},\n",
       " 'cholesterol': {'NORMAL': 0.770591451664822,\n",
       "  'WELL_ABOVE_NORMAL': 0.1064859930946596,\n",
       "  'ABOVE_NORMAL': 0.12292255524051839},\n",
       " 'gluc': {'NORMAL': 0.8587095038826004,\n",
       "  'WELL_ABOVE_NORMAL': 0.07393256048787156,\n",
       "  'ABOVE_NORMAL': 0.06735793562952805},\n",
       " 'smoke': {False: 0.9120869914146247, True: 0.08791300858537532},\n",
       " 'alco': {False: 0.948390738201172, True: 0.051609261798827945},\n",
       " 'active': {True: 0.8010856288666158, False: 0.1989143711333842},\n",
       " 'cardio': {True: 0.44239596791618346, False: 0.5576040320838166}}"
      ]
     },
     "execution_count": 11,
     "metadata": {},
     "output_type": "execute_result"
    }
   ],
   "source": [
    "import pandas as pd\n",
    "\n",
    "def balance_dataset(dataset: pd.DataFrame, ratios: dict[str, dict[str, float]], tolerance: float) -> pd.DataFrame:\n",
    "    balanced_dataset = pd.DataFrame()\n",
    "    \n",
    "    for field, field_ratios in ratios.items():\n",
    "        for value, ratio in field_ratios.items():\n",
    "            count = int(len(dataset) * ratio)\n",
    "            if count > len(dataset[dataset[field] == value]):\n",
    "                count = len(dataset[dataset[field] == value])\n",
    "            elif count < len(dataset[dataset[field] == value]) * (1 - tolerance):\n",
    "                count = len(dataset[dataset[field] == value]) * (1 - tolerance)\n",
    "            subset = dataset[dataset[field] == value].sample(n=int(count), random_state=42)\n",
    "            balanced_dataset = pd.concat([balanced_dataset, subset])\n",
    "    \n",
    "    return balanced_dataset.sample(frac=1, random_state=42, replace=True).reset_index(drop=True)\n",
    "\n",
    "balanced_dataset = balance_dataset(DATASET, RECOMENDED_RATIOS, ACCURACY_TOLERENCE)\n",
    "\n",
    "get_ratios(balanced_dataset)\n"
   ]
  },
  {
   "cell_type": "code",
   "execution_count": null,
   "metadata": {},
   "outputs": [],
   "source": []
  }
 ],
 "metadata": {
  "kernelspec": {
   "display_name": "analysis-IscL3AmE-py3.11",
   "language": "python",
   "name": "python3"
  },
  "language_info": {
   "codemirror_mode": {
    "name": "ipython",
    "version": 3
   },
   "file_extension": ".py",
   "mimetype": "text/x-python",
   "name": "python",
   "nbconvert_exporter": "python",
   "pygments_lexer": "ipython3",
   "version": "3.11.7"
  }
 },
 "nbformat": 4,
 "nbformat_minor": 2
}
