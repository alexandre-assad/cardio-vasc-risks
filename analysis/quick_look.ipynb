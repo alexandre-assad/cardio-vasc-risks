{
 "cells": [
  {
   "cell_type": "markdown",
   "metadata": {},
   "source": [
    "# Analysis\n",
    "\n",
    "Before starting anything, let's take a quick look at our data and determine some boundaries to validate our dataset.\n",
    "\n",
    "## Rules (to start with)\n",
    "\n",
    "- **Age (days,int):** range 10 - 110\n",
    "- **Height (cm,int):** range 60 - 230  \n",
    "- **Weight (kg, int):** range 30 - 250\n",
    "- **Gender:** -> to bool\n",
    "- **BMI** -> range \n",
    "\n",
    "**Ap High:**\n",
    "- Low (Hypotension): Less than 90 mm Hg systolic\n",
    "- Normal: Less than 120 mm Hg systolic\n",
    "- Elevated: 120-129 mm Hg systolic\n",
    "- High (Hypertension):\n",
    "    - Stage 1: 130-139 mm Hg systolic\n",
    "    - Stage 2: 140 mm Hg or higher systolic\n",
    "- Critical: 180 mm Hg and above\n",
    "\n",
    "**Ap Low:**\n",
    "- Low: Less than 60mm Hg diastolic\n",
    "- Normal: Less than 80 mm Hg diastolic\n",
    "- Elevated: 80-89 mm Hg diastolic\n",
    "- High (Hypertension):\n",
    "    - Stage 1: 90-99 mm Hg diastolic\n",
    "    - Stage 2: 100 mm Hg or higher diastolic\n",
    "- Critical (Made that one up): 120 mm Hg diastolic\n",
    "\n",
    "## Let's start with those and validate our data to be applicable to real people\n",
    "- In scripts, you can find the first change we made, booleans are now as booleans\n"
   ]
  },
  {
   "cell_type": "code",
   "execution_count": 6,
   "metadata": {},
   "outputs": [],
   "source": [
    "from scripts.generic_methods import load_dataset, drop_by_filter\n",
    "from scripts.patient import Patient\n",
    "from icecream import ic"
   ]
  },
  {
   "cell_type": "code",
   "execution_count": 7,
   "metadata": {},
   "outputs": [],
   "source": [
    "from pathlib import Path\n",
    "\n",
    "\n",
    "_CARDIO_DATASET_PATH = Path(\"../data/object_compatible/cardio_train.csv\")\n",
    "CARDIO_DATASET = load_dataset(_CARDIO_DATASET_PATH)"
   ]
  },
  {
   "cell_type": "code",
   "execution_count": 8,
   "metadata": {},
   "outputs": [
    {
     "name": "stdout",
     "output_type": "stream",
     "text": [
      "<class 'pandas.core.frame.DataFrame'>\n",
      "RangeIndex: 70000 entries, 0 to 69999\n",
      "Data columns (total 13 columns):\n",
      " #   Column       Non-Null Count  Dtype  \n",
      "---  ------       --------------  -----  \n",
      " 0   id           70000 non-null  int64  \n",
      " 1   age          70000 non-null  int64  \n",
      " 2   gender       70000 non-null  bool   \n",
      " 3   height       70000 non-null  int64  \n",
      " 4   weight       70000 non-null  float64\n",
      " 5   ap_hi        70000 non-null  int64  \n",
      " 6   ap_lo        70000 non-null  int64  \n",
      " 7   cholesterol  70000 non-null  int64  \n",
      " 8   gluc         70000 non-null  int64  \n",
      " 9   smoke        70000 non-null  bool   \n",
      " 10  alco         70000 non-null  bool   \n",
      " 11  active       70000 non-null  bool   \n",
      " 12  cardio       70000 non-null  bool   \n",
      "dtypes: bool(5), float64(1), int64(7)\n",
      "memory usage: 4.6 MB\n"
     ]
    },
    {
     "data": {
      "text/html": [
       "<div>\n",
       "<style scoped>\n",
       "    .dataframe tbody tr th:only-of-type {\n",
       "        vertical-align: middle;\n",
       "    }\n",
       "\n",
       "    .dataframe tbody tr th {\n",
       "        vertical-align: top;\n",
       "    }\n",
       "\n",
       "    .dataframe thead th {\n",
       "        text-align: right;\n",
       "    }\n",
       "</style>\n",
       "<table border=\"1\" class=\"dataframe\">\n",
       "  <thead>\n",
       "    <tr style=\"text-align: right;\">\n",
       "      <th></th>\n",
       "      <th>id</th>\n",
       "      <th>age</th>\n",
       "      <th>height</th>\n",
       "      <th>weight</th>\n",
       "      <th>ap_hi</th>\n",
       "      <th>ap_lo</th>\n",
       "      <th>cholesterol</th>\n",
       "      <th>gluc</th>\n",
       "    </tr>\n",
       "  </thead>\n",
       "  <tbody>\n",
       "    <tr>\n",
       "      <th>count</th>\n",
       "      <td>70000.000000</td>\n",
       "      <td>70000.000000</td>\n",
       "      <td>70000.000000</td>\n",
       "      <td>70000.000000</td>\n",
       "      <td>70000.000000</td>\n",
       "      <td>70000.000000</td>\n",
       "      <td>70000.000000</td>\n",
       "      <td>70000.000000</td>\n",
       "    </tr>\n",
       "    <tr>\n",
       "      <th>mean</th>\n",
       "      <td>49972.419900</td>\n",
       "      <td>19468.865814</td>\n",
       "      <td>164.359229</td>\n",
       "      <td>74.205690</td>\n",
       "      <td>128.817286</td>\n",
       "      <td>96.630414</td>\n",
       "      <td>1.366871</td>\n",
       "      <td>1.226457</td>\n",
       "    </tr>\n",
       "    <tr>\n",
       "      <th>std</th>\n",
       "      <td>28851.302323</td>\n",
       "      <td>2467.251667</td>\n",
       "      <td>8.210126</td>\n",
       "      <td>14.395757</td>\n",
       "      <td>154.011419</td>\n",
       "      <td>188.472530</td>\n",
       "      <td>0.680250</td>\n",
       "      <td>0.572270</td>\n",
       "    </tr>\n",
       "    <tr>\n",
       "      <th>min</th>\n",
       "      <td>0.000000</td>\n",
       "      <td>10798.000000</td>\n",
       "      <td>55.000000</td>\n",
       "      <td>10.000000</td>\n",
       "      <td>-150.000000</td>\n",
       "      <td>-70.000000</td>\n",
       "      <td>1.000000</td>\n",
       "      <td>1.000000</td>\n",
       "    </tr>\n",
       "    <tr>\n",
       "      <th>25%</th>\n",
       "      <td>25006.750000</td>\n",
       "      <td>17664.000000</td>\n",
       "      <td>159.000000</td>\n",
       "      <td>65.000000</td>\n",
       "      <td>120.000000</td>\n",
       "      <td>80.000000</td>\n",
       "      <td>1.000000</td>\n",
       "      <td>1.000000</td>\n",
       "    </tr>\n",
       "    <tr>\n",
       "      <th>50%</th>\n",
       "      <td>50001.500000</td>\n",
       "      <td>19703.000000</td>\n",
       "      <td>165.000000</td>\n",
       "      <td>72.000000</td>\n",
       "      <td>120.000000</td>\n",
       "      <td>80.000000</td>\n",
       "      <td>1.000000</td>\n",
       "      <td>1.000000</td>\n",
       "    </tr>\n",
       "    <tr>\n",
       "      <th>75%</th>\n",
       "      <td>74889.250000</td>\n",
       "      <td>21327.000000</td>\n",
       "      <td>170.000000</td>\n",
       "      <td>82.000000</td>\n",
       "      <td>140.000000</td>\n",
       "      <td>90.000000</td>\n",
       "      <td>2.000000</td>\n",
       "      <td>1.000000</td>\n",
       "    </tr>\n",
       "    <tr>\n",
       "      <th>max</th>\n",
       "      <td>99999.000000</td>\n",
       "      <td>23713.000000</td>\n",
       "      <td>250.000000</td>\n",
       "      <td>200.000000</td>\n",
       "      <td>16020.000000</td>\n",
       "      <td>11000.000000</td>\n",
       "      <td>3.000000</td>\n",
       "      <td>3.000000</td>\n",
       "    </tr>\n",
       "  </tbody>\n",
       "</table>\n",
       "</div>"
      ],
      "text/plain": [
       "                 id           age        height        weight         ap_hi  \\\n",
       "count  70000.000000  70000.000000  70000.000000  70000.000000  70000.000000   \n",
       "mean   49972.419900  19468.865814    164.359229     74.205690    128.817286   \n",
       "std    28851.302323   2467.251667      8.210126     14.395757    154.011419   \n",
       "min        0.000000  10798.000000     55.000000     10.000000   -150.000000   \n",
       "25%    25006.750000  17664.000000    159.000000     65.000000    120.000000   \n",
       "50%    50001.500000  19703.000000    165.000000     72.000000    120.000000   \n",
       "75%    74889.250000  21327.000000    170.000000     82.000000    140.000000   \n",
       "max    99999.000000  23713.000000    250.000000    200.000000  16020.000000   \n",
       "\n",
       "              ap_lo   cholesterol          gluc  \n",
       "count  70000.000000  70000.000000  70000.000000  \n",
       "mean      96.630414      1.366871      1.226457  \n",
       "std      188.472530      0.680250      0.572270  \n",
       "min      -70.000000      1.000000      1.000000  \n",
       "25%       80.000000      1.000000      1.000000  \n",
       "50%       80.000000      1.000000      1.000000  \n",
       "75%       90.000000      2.000000      1.000000  \n",
       "max    11000.000000      3.000000      3.000000  "
      ]
     },
     "execution_count": 8,
     "metadata": {},
     "output_type": "execute_result"
    }
   ],
   "source": [
    "CARDIO_DATASET.head()\n",
    "CARDIO_DATASET.info()\n",
    "CARDIO_DATASET.describe()"
   ]
  },
  {
   "cell_type": "markdown",
   "metadata": {},
   "source": [
    "Let's take a peak at values we outlied in our set"
   ]
  },
  {
   "cell_type": "code",
   "execution_count": 9,
   "metadata": {},
   "outputs": [],
   "source": [
    "def patient_is_valid(patient: Patient) -> bool:\n",
    "    \"\"\"Check if a patient is valid.\"\"\"\n",
    "    return patient.is_valid"
   ]
  },
  {
   "cell_type": "code",
   "execution_count": 10,
   "metadata": {},
   "outputs": [],
   "source": [
    "# VALID_DATASET = drop_by_filter(CARDIO_DATASET, lambda p: not patient_is_valid(p))\n",
    "# VALID_DATASET.to_csv(\"../data/filtered/cardio_train.csv\", index=False)\n",
    "# VALID_DATASET.head()\n",
    "# VALID_DATASET.info()\n",
    "# VALID_DATASET.describe()"
   ]
  },
  {
   "cell_type": "code",
   "execution_count": 11,
   "metadata": {},
   "outputs": [],
   "source": [
    "# UNVALID_DATASET = drop_by_filter(CARDIO_DATASET, patient_is_valid)\n",
    "# UNVALID_DATASET.to_csv(\"../data/filtered/cardio_train_unvalid.csv\", index=False)\n",
    "# UNVALID_DATASET.head()\n",
    "# UNVALID_DATASET.info()\n",
    "# UNVALID_DATASET.describe()\n"
   ]
  },
  {
   "cell_type": "markdown",
   "metadata": {},
   "source": [
    "Let's take a quick look at distrubution\n",
    "- Gender\n",
    "- Chloresterol\n",
    "- Glucose Lvl\n",
    "- Ap Low\n",
    "- Ap High\n",
    "- BMI "
   ]
  },
  {
   "cell_type": "code",
   "execution_count": 12,
   "metadata": {},
   "outputs": [],
   "source": [
    "import pandas as pd\n",
    "\n",
    "def check_missing_values(df):\n",
    "    \"\"\"\n",
    "    Check for missing values in a pandas DataFrame.\n",
    "    \n",
    "    Parameters:\n",
    "        df (pandas.DataFrame): The DataFrame to check for missing values.\n",
    "        \n",
    "    Returns:\n",
    "        missing_values (pandas.DataFrame): A DataFrame showing the count and percentage of missing values \n",
    "                                           for each column in the input DataFrame.\n",
    "    \"\"\"\n",
    "    missing_counts = df.isnull().sum()\n",
    "    missing_percentage = (missing_counts / len(df)) * 100\n",
    "    missing_values = pd.DataFrame({\n",
    "        'Missing Values': missing_counts,\n",
    "        'Percentage': missing_percentage\n",
    "    })\n",
    "    return missing_values\n",
    "\n",
    "# Example usage:"
   ]
  },
  {
   "cell_type": "code",
   "execution_count": 15,
   "metadata": {},
   "outputs": [
    {
     "data": {
      "image/png": "[encoded data removed]",
      "text/plain": [
       "<Figure size 640x480 with 1 Axes>"
      ]
     },
     "metadata": {},
     "output_type": "display_data"
    }
   ],
   "source": [
    "from scripts.plots import plot_patients_by_status, Status\n",
    "\n",
    "plot_patients_by_status(CARDIO_DATASET, lambda patient: Status.VALID if patient.bmi_is_valid else Status.INVALID)"
   ]
  }
 ],
 "metadata": {
  "kernelspec": {
   "display_name": "analysis--T56nGU8-py3.11",
   "language": "python",
   "name": "python3"
  },
  "language_info": {
   "codemirror_mode": {
    "name": "ipython",
    "version": 3
   },
   "file_extension": ".py",
   "mimetype": "text/x-python",
   "name": "python",
   "nbconvert_exporter": "python",
   "pygments_lexer": "ipython3",
   "version": "3.10.12"
  }
 },
 "nbformat": 4,
 "nbformat_minor": 2
}
