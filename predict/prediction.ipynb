{
 "cells": [
  {
   "cell_type": "code",
   "execution_count": 105,
   "metadata": {},
   "outputs": [],
   "source": [
    "from sklearn.ensemble import RandomForestClassifier\n",
    "from sklearn.linear_model import LogisticRegression\n",
    "from sklearn.metrics import (\n",
    "    accuracy_score,\n",
    "    precision_score,\n",
    "    recall_score,\n",
    "    f1_score,\n",
    "    confusion_matrix,\n",
    ")\n",
    "from sklearn.model_selection import train_test_split, GridSearchCV\n",
    "from sklearn.neighbors import KNeighborsClassifier\n",
    "from sklearn.preprocessing import StandardScaler\n",
    "from sklearn.svm import SVC\n",
    "from xgboost import XGBClassifier\n",
    "from pandas import Series, read_csv\n",
    "from imblearn.under_sampling import RandomUnderSampler"
   ]
  },
  {
   "cell_type": "code",
   "execution_count": 106,
   "metadata": {},
   "outputs": [],
   "source": [
    "def print_all_scores(y_true: Series, y_pred: Series) -> None:\n",
    "    acc_score = accuracy_score(y_true, y_pred)\n",
    "    print(\"accuracy: \", acc_score)\n",
    "    pre_score = precision_score(y_true, y_pred)\n",
    "    print(\"precision: \", pre_score)\n",
    "    rec_score = recall_score(y_true, y_pred)\n",
    "    print(\"recall: \", rec_score)\n",
    "    f_score = f1_score(y_true, y_pred)\n",
    "    print(\"f1_score: \", f_score)\n",
    "    conf_matrix = confusion_matrix(y_true, y_pred)\n",
    "    print(\"Confusion matrix: \\n\", conf_matrix)"
   ]
  },
  {
   "cell_type": "code",
   "execution_count": 107,
   "metadata": {},
   "outputs": [
    {
     "name": "stdout",
     "output_type": "stream",
     "text": [
      "<class 'pandas.core.frame.DataFrame'>\n",
      "RangeIndex: 58989 entries, 0 to 58988\n",
      "Data columns (total 4 columns):\n",
      " #   Column      Non-Null Count  Dtype  \n",
      "---  ------      --------------  -----  \n",
      " 0   cardio      58989 non-null  bool   \n",
      " 1   is_healthy  58989 non-null  bool   \n",
      " 2   ap_lo       58989 non-null  float64\n",
      " 3   gluc        58989 non-null  object \n",
      "dtypes: bool(2), float64(1), object(1)\n",
      "memory usage: 1.0+ MB\n"
     ]
    }
   ],
   "source": [
    "DATASET = read_csv('../data/train/analysis.csv')\n",
    "DATASET.info()"
   ]
  },
  {
   "cell_type": "code",
   "execution_count": 108,
   "metadata": {},
   "outputs": [
    {
     "data": {
      "text/plain": [
       "cardio        58750\n",
       "is_healthy    58750\n",
       "ap_lo         58750\n",
       "gluc          58750\n",
       "dtype: int64"
      ]
     },
     "execution_count": 108,
     "metadata": {},
     "output_type": "execute_result"
    }
   ],
   "source": [
    "DATASET[DATASET.duplicated()].count()"
   ]
  },
  {
   "cell_type": "code",
   "execution_count": 109,
   "metadata": {},
   "outputs": [],
   "source": [
    "CATEGORICAL_FEATURES = [\"gluc\"]"
   ]
  },
  {
   "cell_type": "code",
   "execution_count": 110,
   "metadata": {},
   "outputs": [],
   "source": [
    "X, Y = DATASET.drop([\"cardio\"], axis=1), DATASET['cardio'] "
   ]
  },
  {
   "cell_type": "code",
   "execution_count": 111,
   "metadata": {},
   "outputs": [
    {
     "data": {
      "text/plain": [
       "(58989, 4)"
      ]
     },
     "execution_count": 111,
     "metadata": {},
     "output_type": "execute_result"
    }
   ],
   "source": [
    "DATASET.shape"
   ]
  },
  {
   "cell_type": "code",
   "execution_count": 112,
   "metadata": {},
   "outputs": [
    {
     "data": {
      "text/html": [
       "<div>\n",
       "<style scoped>\n",
       "    .dataframe tbody tr th:only-of-type {\n",
       "        vertical-align: middle;\n",
       "    }\n",
       "\n",
       "    .dataframe tbody tr th {\n",
       "        vertical-align: top;\n",
       "    }\n",
       "\n",
       "    .dataframe thead th {\n",
       "        text-align: right;\n",
       "    }\n",
       "</style>\n",
       "<table border=\"1\" class=\"dataframe\">\n",
       "  <thead>\n",
       "    <tr style=\"text-align: right;\">\n",
       "      <th></th>\n",
       "      <th>is_healthy</th>\n",
       "      <th>ap_lo</th>\n",
       "      <th>gluc_ABOVE_NORMAL</th>\n",
       "      <th>gluc_NORMAL</th>\n",
       "      <th>gluc_WELL_ABOVE_NORMAL</th>\n",
       "    </tr>\n",
       "  </thead>\n",
       "  <tbody>\n",
       "    <tr>\n",
       "      <th>0</th>\n",
       "      <td>True</td>\n",
       "      <td>80.0</td>\n",
       "      <td>0.0</td>\n",
       "      <td>1.0</td>\n",
       "      <td>0.0</td>\n",
       "    </tr>\n",
       "    <tr>\n",
       "      <th>1</th>\n",
       "      <td>False</td>\n",
       "      <td>90.0</td>\n",
       "      <td>0.0</td>\n",
       "      <td>1.0</td>\n",
       "      <td>0.0</td>\n",
       "    </tr>\n",
       "    <tr>\n",
       "      <th>2</th>\n",
       "      <td>False</td>\n",
       "      <td>70.0</td>\n",
       "      <td>0.0</td>\n",
       "      <td>1.0</td>\n",
       "      <td>0.0</td>\n",
       "    </tr>\n",
       "    <tr>\n",
       "      <th>3</th>\n",
       "      <td>True</td>\n",
       "      <td>60.0</td>\n",
       "      <td>0.0</td>\n",
       "      <td>1.0</td>\n",
       "      <td>0.0</td>\n",
       "    </tr>\n",
       "    <tr>\n",
       "      <th>4</th>\n",
       "      <td>False</td>\n",
       "      <td>80.0</td>\n",
       "      <td>1.0</td>\n",
       "      <td>0.0</td>\n",
       "      <td>0.0</td>\n",
       "    </tr>\n",
       "  </tbody>\n",
       "</table>\n",
       "</div>"
      ],
      "text/plain": [
       "   is_healthy  ap_lo  gluc_ABOVE_NORMAL  gluc_NORMAL  gluc_WELL_ABOVE_NORMAL\n",
       "0        True   80.0                0.0          1.0                     0.0\n",
       "1       False   90.0                0.0          1.0                     0.0\n",
       "2       False   70.0                0.0          1.0                     0.0\n",
       "3        True   60.0                0.0          1.0                     0.0\n",
       "4       False   80.0                1.0          0.0                     0.0"
      ]
     },
     "execution_count": 112,
     "metadata": {},
     "output_type": "execute_result"
    }
   ],
   "source": [
    "from sklearn.preprocessing import OneHotEncoder\n",
    "from pandas import DataFrame, concat\n",
    "\n",
    "one_hot_encoder = OneHotEncoder(sparse_output=False)\n",
    "dataset_encoded = one_hot_encoder.fit_transform(X[CATEGORICAL_FEATURES])\n",
    "hot_dataset = DataFrame(dataset_encoded, columns=one_hot_encoder.get_feature_names_out(CATEGORICAL_FEATURES))\n",
    "X = concat([X, hot_dataset], axis=1)\n",
    "\n",
    "X = X.drop(CATEGORICAL_FEATURES, axis=1)\n",
    "X.head()"
   ]
  },
  {
   "cell_type": "code",
   "execution_count": 113,
   "metadata": {},
   "outputs": [
    {
     "name": "stdout",
     "output_type": "stream",
     "text": [
      "[[-0.66586221  1.34046904 -0.26602127  0.40173164 -0.28035487]\n",
      " [-0.66586221  0.05880946 -0.26602127  0.40173164 -0.28035487]\n",
      " [-0.66586221  0.05880946 -0.26602127  0.40173164 -0.28035487]\n",
      " ...\n",
      " [ 1.50181221  0.05880946 -0.26602127  0.40173164 -0.28035487]\n",
      " [ 1.50181221  0.05880946 -0.26602127  0.40173164 -0.28035487]\n",
      " [ 1.50181221  0.05880946 -0.26602127  0.40173164 -0.28035487]]\n"
     ]
    }
   ],
   "source": [
    "\n",
    "\n",
    "\n",
    "\n",
    "X_train, X_test, y_train, y_test = train_test_split(X, Y, test_size=0.3)\n",
    "scale = StandardScaler()\n",
    "under_sampler = RandomUnderSampler()\n",
    "\n",
    "\n",
    "X_train, X_test = scale.fit_transform(X_train), scale.fit_transform(X_test)\n",
    "X_train, y_train = under_sampler.fit_resample(X_train, y_train)\n",
    "print(X_train)"
   ]
  },
  {
   "cell_type": "code",
   "execution_count": 114,
   "metadata": {},
   "outputs": [
    {
     "name": "stdout",
     "output_type": "stream",
     "text": [
      "accuracy:  0.6160931231282138\n",
      "precision:  0.7366511145671333\n",
      "recall:  0.5441317250622247\n",
      "f1_score:  0.6259222552582314\n",
      "Confusion matrix: \n",
      " [[5219 2032]\n",
      " [4762 5684]]\n"
     ]
    }
   ],
   "source": [
    "log_reg = LogisticRegression()\n",
    "log_reg.fit(X_train, y_train)\n",
    "y_predict = log_reg.predict(X_test)\n",
    "print_all_scores(y_predict, y_test)"
   ]
  },
  {
   "cell_type": "code",
   "execution_count": 115,
   "metadata": {},
   "outputs": [
    {
     "name": "stdout",
     "output_type": "stream",
     "text": [
      "accuracy:  0.6173362716844663\n",
      "precision:  0.7253758424053914\n",
      "recall:  0.5460487804878049\n",
      "f1_score:  0.6230657909384393\n",
      "Confusion matrix: \n",
      " [[5328 2119]\n",
      " [4653 5597]]\n"
     ]
    }
   ],
   "source": [
    "ran_for = RandomForestClassifier()\n",
    "ran_for.fit(X_train, y_train)\n",
    "y_predict = ran_for.predict(X_test)\n",
    "print_all_scores(y_predict, y_test)"
   ]
  }
 ],
 "metadata": {
  "kernelspec": {
   "display_name": ".venv",
   "language": "python",
   "name": "python3"
  },
  "language_info": {
   "codemirror_mode": {
    "name": "ipython",
    "version": 3
   },
   "file_extension": ".py",
   "mimetype": "text/x-python",
   "name": "python",
   "nbconvert_exporter": "python",
   "pygments_lexer": "ipython3",
   "version": "3.10.12"
  },
  "orig_nbformat": 4
 },
 "nbformat": 4,
 "nbformat_minor": 2
}
